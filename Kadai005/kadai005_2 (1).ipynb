{
  "nbformat": 4,
  "nbformat_minor": 0,
  "metadata": {
    "colab": {
      "provenance": []
    },
    "kernelspec": {
      "name": "python3",
      "display_name": "Python 3"
    },
    "language_info": {
      "name": "python"
    }
  },
  "cells": [
    {
      "cell_type": "code",
      "execution_count": 3,
      "metadata": {
        "colab": {
          "base_uri": "https://localhost:8080/"
        },
        "id": "70m9vvNUKWPJ",
        "outputId": "5bb099e2-4827-40e8-c9fa-538c1f08b640"
      },
      "outputs": [
        {
          "output_type": "stream",
          "name": "stdout",
          "text": [
            "75.0cm²\n"
          ]
        }
      ],
      "source": [
        "#変数を使って四則演算しよう\n",
        "\n",
        "topside = 10\n",
        "downside = 20\n",
        "hight = 5\n",
        "\n",
        "trapezoid_area = (topside + downside) * hight / 2\n",
        "\n",
        "print(str(trapezoid_area) + \"cm²\")"
      ]
    }
  ]
}