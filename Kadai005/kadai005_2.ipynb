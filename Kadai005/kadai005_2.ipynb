{
  "nbformat": 4,
  "nbformat_minor": 0,
  "metadata": {
    "colab": {
      "provenance": []
    },
    "kernelspec": {
      "name": "python3",
      "display_name": "Python 3"
    },
    "language_info": {
      "name": "python"
    }
  },
  "cells": [
    {
      "cell_type": "code",
      "execution_count": 4,
      "metadata": {
        "colab": {
          "base_uri": "https://localhost:8080/"
        },
        "id": "70m9vvNUKWPJ",
        "outputId": "a061b980-6e60-4c68-a638-5dfff4cb5679"
      },
      "outputs": [
        {
          "output_type": "stream",
          "name": "stdout",
          "text": [
            "75.0㎠\n"
          ]
        }
      ],
      "source": [
        "#変数を使って四則演算しよう\n",
        "\n",
        "topside = 10\n",
        "downside = 20\n",
        "hight = 5\n",
        "\n",
        "trapezoid_area = (topside + downside) * hight / 2\n",
        "\n",
        "print(str(trapezoid_area) + \"㎠\")"
      ]
    }
  ]
}