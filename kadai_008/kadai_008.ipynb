{
  "nbformat": 4,
  "nbformat_minor": 0,
  "metadata": {
    "colab": {
      "provenance": []
    },
    "kernelspec": {
      "name": "python3",
      "display_name": "Python 3"
    },
    "language_info": {
      "name": "python"
    }
  },
  "cells": [
    {
      "cell_type": "code",
      "execution_count": 8,
      "metadata": {
        "colab": {
          "base_uri": "https://localhost:8080/"
        },
        "id": "87psF1uEWS45",
        "outputId": "3df037f6-536e-4271-802a-117826335af1"
      },
      "outputs": [
        {
          "output_type": "stream",
          "name": "stdout",
          "text": [
            "FizzBazz\n"
          ]
        }
      ],
      "source": [
        "#条件分岐のif文で処理を切り替えよう\n",
        "\n",
        "#if文を用いて、以下の条件分岐をするコードを記述してください。値はprint関数で出力してください。\n",
        "\n",
        "#・変数varが、3の倍数の場合は「Fizz」を出力\n",
        "#・変数varが、5の倍数の場合は「Buzz」を出力\n",
        "#・変数varが、3の倍数と5の倍数の両方に該当する場合は「FizzBuzz」を出力\n",
        "#・上記のどの場合にも該当しない場合は、変数varの値を出力\n",
        "\n",
        "#ただし、変数varは正の整数とします。\n",
        "\n",
        "var = 30\n",
        "\n",
        "if var %3 == 0 and var %5 == 0:\n",
        "    print(\"FizzBazz\")\n",
        "elif var %3 == 0:\n",
        "    print(\"Fizz\")\n",
        "elif var %5 == 0:\n",
        "    print(\"Buzz\")\n",
        "else:\n",
        "    print(var)\n"
      ]
    }
  ]
}