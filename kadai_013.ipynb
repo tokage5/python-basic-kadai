{
  "nbformat": 4,
  "nbformat_minor": 0,
  "metadata": {
    "colab": {
      "provenance": []
    },
    "kernelspec": {
      "name": "python3",
      "display_name": "Python 3"
    },
    "language_info": {
      "name": "python"
    }
  },
  "cells": [
    {
      "cell_type": "code",
      "execution_count": 1,
      "metadata": {
        "colab": {
          "base_uri": "https://localhost:8080/"
        },
        "id": "QTehMOWl2uOq",
        "outputId": "ebee3fad-caf5-4c72-c6e7-064fbbfc683c"
      },
      "outputs": [
        {
          "output_type": "stream",
          "name": "stdout",
          "text": [
            "1100.0\n"
          ]
        }
      ],
      "source": [
        "#課題　関数を使いこなそう\n",
        "#商品を購入して、消費税を加えた計算結果を返す関数を記述してください。\n",
        "#第1引数に商品の金額、第2引数に消費税（10%）を設定できるようにしてください。\n",
        "\n",
        "\n",
        "def add_tax(price, rate):\n",
        "  total = price * (1+ rate/100)\n",
        "  print(total)\n",
        "\n",
        "add_tax(1000,10)\n"
      ]
    }
  ]
}