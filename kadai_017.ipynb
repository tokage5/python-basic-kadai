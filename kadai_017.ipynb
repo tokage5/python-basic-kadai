{
  "nbformat": 4,
  "nbformat_minor": 0,
  "metadata": {
    "colab": {
      "provenance": []
    },
    "kernelspec": {
      "name": "python3",
      "display_name": "Python 3"
    },
    "language_info": {
      "name": "python"
    }
  },
  "cells": [
    {
      "cell_type": "code",
      "execution_count": 32,
      "metadata": {
        "colab": {
          "base_uri": "https://localhost:8080/"
        },
        "id": "wEc51siKk_jo",
        "outputId": "127797e1-8b28-42e2-82da-518492868df1"
      },
      "outputs": [
        {
          "output_type": "stream",
          "name": "stdout",
          "text": [
            "大人ではないです\n",
            "大人です\n",
            "大人です\n",
            "大人ではないです\n",
            "大人です\n"
          ]
        }
      ],
      "source": [
        "#名前(name)と年齢(age)の属性を持つHumanクラスを作成してください。\n",
        "#Humanクラスには、以下の条件で標準出力(print)するcheck_adultメソッドを追加してください。\n",
        "#ageが20以上の場合に大人であること\n",
        "#そうでない場合に大人でないこと\n",
        "#Humanクラスのインスタンスを複数生成してリストに追加し、リストの要素数分だけcheck_adultメソッドを呼び出してください。\n",
        "\n",
        "\n",
        "class Human:\n",
        "    def __init__(self, name, age):\n",
        "        self.name = name\n",
        "        self.age = age\n",
        "\n",
        "    def check_adult(self):\n",
        "        if self.age >= 20:\n",
        "            print (\"大人です\")\n",
        "        else:\n",
        "            print(\"大人ではないです\")\n",
        "\n",
        "person1 = Human(\"Yamada\", 15)\n",
        "person2 = Human(\"Suzuki\", 25)\n",
        "person3 = Human(\"Sato\", 40)\n",
        "person4 = Human(\"Tanaka\", 5)\n",
        "person5 = Human(\"Kato\", 30)\n",
        "\n",
        "list = [person1, person2, person3, person4, person5]\n",
        "for person in list:\n",
        "    person.check_adult()\n"
      ]
    },
    {
      "cell_type": "code",
      "source": [],
      "metadata": {
        "id": "zZ47ASp4nu9_"
      },
      "execution_count": null,
      "outputs": []
    }
  ]
}